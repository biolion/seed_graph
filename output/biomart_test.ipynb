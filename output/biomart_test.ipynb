{
 "metadata": {
  "name": ""
 },
 "nbformat": 3,
 "nbformat_minor": 0,
 "worksheets": [
  {
   "cells": [
    {
     "cell_type": "heading",
     "level": 2,
     "metadata": {},
     "source": [
      "Set up environment"
     ]
    },
    {
     "cell_type": "code",
     "collapsed": false,
     "input": [
      "# general\n",
      "import os\n",
      "import sys\n",
      "import urllib.request\n",
      "from urllib.request import Request, urlopen\n",
      "from urllib.parse import urlencode\n",
      "import wget\n",
      "import ssl # required for request to biomart on windows"
     ],
     "language": "python",
     "metadata": {},
     "outputs": [],
     "prompt_number": 1
    },
    {
     "cell_type": "code",
     "collapsed": false,
     "input": [
      "# analysis\n",
      "import pandas as pd\n",
      "import networkx as nx\n",
      "import numpy as np\n",
      "import scipy as sp\n",
      "import scipy.spatial as spspat\n",
      "import scipy.cluster as spclu"
     ],
     "language": "python",
     "metadata": {},
     "outputs": [],
     "prompt_number": 2
    },
    {
     "cell_type": "code",
     "collapsed": false,
     "input": [
      "# plotting\n",
      "import matplotlib as mpl\n",
      "import matplotlib.pyplot as plt"
     ],
     "language": "python",
     "metadata": {},
     "outputs": [],
     "prompt_number": 3
    },
    {
     "cell_type": "code",
     "collapsed": false,
     "input": [
      "# global vars\n",
      "DIR = os.getcwd()\n",
      "OUTPUT_DIR = DIR + '\\\\' + 'output\\\\'\n",
      "if not os.path.exists(OUTPUT_DIR):\n",
      "    print('Making ' + OUTPUT_DIR)\n",
      "    os.makedirs(OUTPUT_DIR)\n",
      "# PROXY = os.environ.get('http_proxy', 'http://eu-chbs-PROXY.eu.novartis.net:2011/')\n",
      "\n",
      "# how long should Nmers be when parsing UTR sequences\n",
      "NMER_LEN = 8"
     ],
     "language": "python",
     "metadata": {},
     "outputs": [],
     "prompt_number": 4
    },
    {
     "cell_type": "heading",
     "level": 2,
     "metadata": {},
     "source": [
      "Biomart"
     ]
    },
    {
     "cell_type": "heading",
     "level": 5,
     "metadata": {},
     "source": [
      "Set up query"
     ]
    },
    {
     "cell_type": "code",
     "collapsed": false,
     "input": [
      "# obtained from http://www.ensembl.org/biomart/\n",
      "# enter parameters and retieve XML rather than results\n",
      "# data request\n",
      "query = \"\"\"\n",
      "<!DOCTYPE Query>\n",
      "<Query  virtualSchemaName = \"default\" formatter = \"FASTA\" header = \"0\" uniqueRows = \"0\" count = \"\" datasetConfigVersion = \"0.6\" >\n",
      "\t\t\t\n",
      "\t<Dataset name = \"hsapiens_gene_ensembl\" interface = \"default\" >\n",
      "\t\t<Attribute name = \"ensembl_gene_id\" />\n",
      "\t\t<Attribute name = \"ensembl_transcript_id\" />\n",
      "\t\t<Attribute name = \"3utr\" />\n",
      "\t</Dataset>\n",
      "</Query>\n",
      "\"\"\"\n",
      "# base url for request\n",
      "baseurl = 'http://www.biomart.org/biomart/martservice'\n",
      "# alt: http://www.ensembl.org/biomart/martview/d39bd0cb5716fe00e31e6fbd8a12f030?VIRTUALSCHEMANAME=default&ATTRIBUTES=hsapiens_gene_ensembl.default.sequences.ensembl_gene_id|hsapiens_gene_ensembl.default.sequences.ensembl_transcript_id|hsapiens_gene_ensembl.default.sequences.3utr&FILTERS=&VISIBLEPANEL=resultspanel"
     ],
     "language": "python",
     "metadata": {},
     "outputs": [],
     "prompt_number": 7
    },
    {
     "cell_type": "heading",
     "level": 5,
     "metadata": {},
     "source": [
      "Collect UTR sequences"
     ]
    },
    {
     "cell_type": "code",
     "collapsed": false,
     "input": [
      "# format query so that it can be used via biomart REST service\n",
      "# http://www.biomart.org/martservice.html\n",
      "\n",
      "try:\n",
      "    ## request data via HTTP REST service\n",
      "    queryurl = baseurl + '?' + urlencode({'query': query})\n",
      "    filename = wget.download(queryurl, out=OUTPUT_DIR + 'hsap.3utr.fasta', bar=\"\")\n",
      "except:\n",
      "    # SSL problems means that this may not work on windows:\n",
      "    # requires this workaround - \n",
      "    # http://stackoverflow.com/questions/13167907/https-request-results-in-reset-connection-in-windows-with-python-3\n",
      "    # related to this bug: http://bugs.python.org/issue16361\n",
      "    \n",
      "    print(\"wget failed, trying urllib method\")\n",
      "    ssl_context = urllib.request.HTTPSHandler(\n",
      "                                              context=ssl.SSLContext(ssl.PROTOCOL_TLSv1))\n",
      "    opener = urllib.request.build_opener(ssl_context)\n",
      "    urllib.request.install_opener(opener)\n",
      "    queryurl = Request(baseurl, urlencode({'query': query}).encode('ascii'))\n",
      "    \n",
      "    # do request / download file\n",
      "    # queryfile = wget.download(urlopen(queryurl, timeout=1000), out=OUTPUT_DIR, bar=\"\")\n",
      "    filename = OUTPUT_DIR + 'hsap.3utr.fasta'\n",
      "    with open(filename, mode='wt', ) as f:\n",
      "        g = urlopen(queryurl, timeout=1000)\n",
      "        f.write(g.read())"
     ],
     "language": "python",
     "metadata": {},
     "outputs": [],
     "prompt_number": "*"
    },
    {
     "cell_type": "code",
     "collapsed": false,
     "input": [
      "try:\n",
      "    print(filename)\n",
      "except:\n",
      "    filename = OUTPUT_DIR + 'hsap.3utr.fasta'\n",
      "    print(filename)"
     ],
     "language": "python",
     "metadata": {},
     "outputs": [
      {
       "output_type": "stream",
       "stream": "stdout",
       "text": [
        "H:\\DATA\\Ieuan-work\\Projects\\seed_graph\\output\\hsap.3utr.fasta\n"
       ]
      }
     ],
     "prompt_number": 5
    },
    {
     "cell_type": "heading",
     "level": 5,
     "metadata": {},
     "source": [
      "Parser for UTR FASTA file"
     ]
    },
    {
     "cell_type": "code",
     "collapsed": false,
     "input": [
      "# adapted from: http://stackoverflow.com/questions/7654971/parsing-a-fasta-file-using-a-generator-python\n",
      "def read_fasta(fp, limit=None):\n",
      "    ### return tuple:\n",
      "    ### id line : sequence\n",
      "    \n",
      "    # initialise holders\n",
      "    name, seq = None, []\n",
      "    count = 0\n",
      "    # open file and go through one line at a time\n",
      "    for line in fp:\n",
      "        # finish if limit reached (number of records)\n",
      "        if limit and count >= limit:\n",
      "            break\n",
      "        line = line.rstrip()\n",
      "        if line.startswith('Seq'): # \"Sequence not available\"\n",
      "           # print(line)\n",
      "            continue\n",
      "        # if we find a new ID line\n",
      "        if line.startswith(\">\"):\n",
      "            count = count + 1 # record count of new id lines\n",
      "            # yeild results so far (previous record if it exists)\n",
      "            if name and len(''.join(seq)) > 0:\n",
      "                yield (name, ''.join(seq))\n",
      "            # reset holders with new id\n",
      "            name, seq = line, []\n",
      "        else:\n",
      "            # otherwise add sequence line to list\n",
      "            seq.append(line)\n",
      "    # return the last record\n",
      "    if name: \n",
      "        yield (name, ''.join(seq))"
     ],
     "language": "python",
     "metadata": {},
     "outputs": [],
     "prompt_number": 6
    },
    {
     "cell_type": "heading",
     "level": 5,
     "metadata": {},
     "source": [
      "Split UTR seqences to create sequence : UTR node pairs"
     ]
    },
    {
     "cell_type": "code",
     "collapsed": false,
     "input": [
      "# read and parse entries\n",
      "utr = {}\n",
      "# collect id : sequence pairs\n",
      "with open(filename) as f:\n",
      "    for name, seq in read_fasta(f, limit =5e3): # 1e5 = ~1/2 UTRs\n",
      "        utr[name] = seq \n",
      "print('' + str(len(utr.keys())) + ' UTR sequences read in for parsing')\n",
      "\n",
      "# parse full sequences to N-mers\n",
      "for key in utr.keys():      \n",
      "    # split to individual characters\n",
      "    # replace single characters with 'sliding window' N-mer\n",
      "    tmp = {\n",
      "           'l':len(utr[key]), # length of utr\n",
      "           't':'utr', # type\n",
      "           's':[], # list of seeds\n",
      "           'gene': key.strip('>').split('|')[0], # gene id\n",
      "           'transcript': key.strip('>').split('|')[1] # transcript id\n",
      "           }\n",
      "    for i in range(0, len(utr[key])-(NMER_LEN)):\n",
      "        tmp['s'].append( utr[key][i:i+(NMER_LEN)] )\n",
      "    utr[key] = tmp\n",
      "\n",
      "if True:\n",
      "    # check a few keys\n",
      "    for i, k in enumerate(utr.keys()):\n",
      "        if i >= 2: break\n",
      "        print(k)\n",
      "        for k2, v2 in utr[k].items():\n",
      "            if k2 !='s' :\n",
      "                print(k2 + ':' + str(v2))\n",
      "        print(len(utr[k]['s']))\n",
      "        print(utr[k]['s'][:3])\n"
     ],
     "language": "python",
     "metadata": {},
     "outputs": [
      {
       "output_type": "stream",
       "stream": "stdout",
       "text": [
        "4747 UTR sequences read in for parsing\n",
        ">ENSG00000165092|ENST00000297785"
       ]
      },
      {
       "output_type": "stream",
       "stream": "stdout",
       "text": [
        "\n",
        "l:546\n",
        "gene:ENSG00000165092\n",
        "transcript:ENST00000297785\n",
        "t:utr\n",
        "538\n",
        "['AGAAAATA', 'GAAAATAC', 'AAAATACA']\n",
        ">ENSG00000100097|ENST00000215909\n",
        "l:57\n",
        "gene:ENSG00000100097\n",
        "transcript:ENST00000215909\n",
        "t:utr\n",
        "49\n",
        "['AATCAGCC', 'ATCAGCCA', 'TCAGCCAG']\n"
       ]
      }
     ],
     "prompt_number": 7
    },
    {
     "cell_type": "heading",
     "level": 2,
     "metadata": {},
     "source": [
      "Create Graph object"
     ]
    },
    {
     "cell_type": "heading",
     "level": 5,
     "metadata": {},
     "source": [
      "Load UTR : sequence pairs to networkx object"
     ]
    },
    {
     "cell_type": "raw",
     "metadata": {},
     "source": [
      "Aim is to produce a miltipartite graph consisting of:\n",
      "\n",
      "Gene --> transcript  - (3'UTR) -> seed\n",
      "\n",
      "i.e. :\n",
      "Gene1 -> transcript1 -> seed1\n",
      "Gene1 -> transcript1 -> seed2\n",
      "Gene1 -> transcript2 -> seed1\n",
      "Gene1 -> transcript2 -> seed2\n",
      "Gene1 -> transcript2 -> seed3\n",
      "Gene2 -> transcript1 -> seed1\n",
      "...\n",
      "\n",
      "_Gene_\n",
      " - node id = ensembl gene id\n",
      " - type = gene\n",
      " - size = 10\n",
      "_Transcript_ \n",
      " - node id = ensembl transcript id\n",
      " - type = transcript\n",
      " - size = 5\n",
      "- other attr: length of UTR sequence (for filtering?)\n",
      "_seed_ \n",
      " - node id = seed sequence\n",
      " - type = seed\n",
      " - size = 2\n",
      "\n",
      "NB: does each ensembl transcript id have only 1 utr? i.e. if the utr changes do you get a new transript id?"
     ]
    },
    {
     "cell_type": "code",
     "collapsed": false,
     "input": [
      "# initiate graph object (undirected, no multi-edges)\n",
      "G = nx.Graph()"
     ],
     "language": "python",
     "metadata": {},
     "outputs": [],
     "prompt_number": 8
    },
    {
     "cell_type": "code",
     "collapsed": false,
     "input": [
      "# collect node ids in dict for intitialisation and lookups\n",
      "nodes = {\n",
      "         # get unique set of genes and transcripts\n",
      "         'genes': set([ utr[k]['gene'] for k in utr.keys()]), \n",
      "         'transcripts' : set([ utr[k]['transcript'] for k in utr.keys()]), \n",
      "         # flatten 2d list and convert to set for unique seed sequences\n",
      "         'seeds' : set([element for sub in [utr[k]['s'] for k in utr.keys()] for element in sub]) \n",
      "         }\n",
      "\n",
      "# check numbers\n",
      "for k in nodes.keys():\n",
      "    print(str(len(nodes[k])) + ' node ids collected for ' + k)"
     ],
     "language": "python",
     "metadata": {},
     "outputs": [
      {
       "output_type": "stream",
       "stream": "stdout",
       "text": [
        "65384 node ids collected for seeds\n",
        "4747 node ids collected for transcripts\n",
        "4669 node ids collected for genes\n"
       ]
      }
     ],
     "prompt_number": 9
    },
    {
     "cell_type": "code",
     "collapsed": false,
     "input": [
      "# load gene nodes as\n",
      "# node, attribute dict tuples list\n",
      "G.add_nodes_from([(k, {'type' : 'gene', 'size' : 200, '_id' : k, 'label' : k, 'col' : 'w'}) for k in nodes['genes']])"
     ],
     "language": "python",
     "metadata": {},
     "outputs": [],
     "prompt_number": 10
    },
    {
     "cell_type": "code",
     "collapsed": false,
     "input": [
      "# load UTR (transcript) nodes\n",
      "G.add_nodes_from([(k, {'type' : 'transcript', 'size' : 100, '_id' : k, 'label' : k, 'col' : 'b'}) for k in nodes['transcripts']]) "
     ],
     "language": "python",
     "metadata": {},
     "outputs": [],
     "prompt_number": 11
    },
    {
     "cell_type": "code",
     "collapsed": false,
     "input": [
      "# load seed nodes\n",
      "G.add_nodes_from([(k, {'type' : 'seed', 'size' : 25, '_id' : k, 'label' : '', 'col' : 'c'}) for k in nodes['seeds']]) "
     ],
     "language": "python",
     "metadata": {},
     "outputs": [],
     "prompt_number": 12
    },
    {
     "cell_type": "code",
     "collapsed": false,
     "input": [
      "## clean up\n",
      "# delete nodes lists\n",
      "del nodes"
     ],
     "language": "python",
     "metadata": {},
     "outputs": [],
     "prompt_number": 13
    },
    {
     "cell_type": "code",
     "collapsed": false,
     "input": [
      "# add edges gene --> transcript\n",
      "G.add_edges_from([(utr[k]['gene'], utr[k]['transcript']) for k in utr.keys()])"
     ],
     "language": "python",
     "metadata": {},
     "outputs": [],
     "prompt_number": 14
    },
    {
     "cell_type": "code",
     "collapsed": false,
     "input": [
      "# add edges transcript --> seed\n",
      "for i, v in enumerate(utr.values()):\n",
      "    G.add_edges_from([(v['transcript'], seed) for seed in v['s']])\n",
      "    v = {}\n",
      "    if i % 5e3 == 0:\n",
      "        print(str(i) + ' UTRs with all seed interactions added to graph')"
     ],
     "language": "python",
     "metadata": {},
     "outputs": [
      {
       "output_type": "stream",
       "stream": "stdout",
       "text": [
        "0 UTRs with all seed interactions added to graph\n"
       ]
      }
     ],
     "prompt_number": 15
    },
    {
     "cell_type": "code",
     "collapsed": false,
     "input": [
      "## clean up\n",
      "# remove utr\n",
      "del utr"
     ],
     "language": "python",
     "metadata": {},
     "outputs": [],
     "prompt_number": 16
    },
    {
     "cell_type": "heading",
     "level": 2,
     "metadata": {},
     "source": [
      "Analysis & visualisation"
     ]
    },
    {
     "cell_type": "code",
     "collapsed": false,
     "input": [
      "# add degree as node attribute\n",
      "nx.set_node_attributes(G,'degree',{key:value for key, value in G.degree().items()})"
     ],
     "language": "python",
     "metadata": {},
     "outputs": [],
     "prompt_number": 17
    },
    {
     "cell_type": "code",
     "collapsed": false,
     "input": [
      "## plot degree distribution by node type: can we prune 'leaf' seed nodes to reduce graph size?\n",
      "# collect data\n",
      "tmp = {}\n",
      "for n in G.node.values():\n",
      "    if n['type'] not in tmp:\n",
      "        tmp[n['type']] = []\n",
      "    tmp[n['type']].append( n['degree'] )\n",
      "    \n",
      "## plot as box/whisker\n",
      "# initialise plot & axes\n",
      "fig, ax = plt.subplots(1, len(tmp.keys()), figsize=(18,18))\n",
      "for i, k in enumerate(tmp.keys()):\n",
      "    # Create the boxplot\n",
      "    ax[i].boxplot(tmp[k], 1)\n",
      "    # x-axis labels\n",
      "    ax[i].set_xticklabels(k)\n",
      "\n",
      "plt.show()"
     ],
     "language": "python",
     "metadata": {},
     "outputs": [
      {
       "metadata": {},
       "output_type": "display_data",
       "png": "[encoded data removed]",
       "text": [
        "<matplotlib.figure.Figure at 0x8428898>"
       ]
      }
     ],
     "prompt_number": 18
    },
    {
     "cell_type": "code",
     "collapsed": false,
     "input": [
      "def generic_graph_plot(G):\n",
      "    ## simple plot of all nodes\n",
      "    # if graph is small enough\n",
      "    if len(G.node.values()) < 4000:\n",
      "        # open figure\n",
      "        plt.figure(figsize=(18,18))\n",
      "        \n",
      "        # get parameters for plotting\n",
      "        cols = list(i['col'] for i in G.node.values())\n",
      "        size = list(i['size'] for i in G.node.values())\n",
      "        labels = {i['_id']:i['label'] for i in G.node.values()}\n",
      "        \n",
      "        nx.draw_networkx(G,\n",
      "                pos=nx.spring_layout(G, weight=1, scale=10.0, iterations=50),\n",
      "                node_color=cols, node_size=size,\n",
      "                with_labels=False, alpha=0.5, labels=labels\n",
      "                )\n",
      "    else:\n",
      "        print('Graph too large to print it all: consider downsampling/subsetting/derivations')"
     ],
     "language": "python",
     "metadata": {},
     "outputs": [],
     "prompt_number": 19
    },
    {
     "cell_type": "code",
     "collapsed": false,
     "input": [
      "def weighted_graph_plot(G, threshold_property = 'weight', threshold = 0, scale=50, debug=False):\n",
      "    \n",
      "    ### plot a weighted layout of graph <G>\n",
      "    # parameter G: input networkx graph object\n",
      "    # parameter threshold_property: edge property on which thresholding is to be done (will also be used as edge weight for plotting)\n",
      "    # parameter threshold: int, minimum edge weight value to be considered\n",
      "    # parameter scale: int, for plotting scale all edge thicknesses (weight) to this value\n",
      "    # parameter debug: default false, print debugging info?\n",
      "    \n",
      "    import numpy as np\n",
      "    \n",
      "    ## simple plot of all nodes\n",
      "    \n",
      "    # open figure\n",
      "    plt.figure(figsize=(18,18))\n",
      "    \n",
      "    # create subgraph only containing edges with weight above threshold\n",
      "    # and nodes with a degree of at least 1 (i.e. no disconnected nodes after removing edges below threshold)\n",
      "    H = G.copy()\n",
      "    \n",
      "    if debug:\n",
      "        # print out some debugging info\n",
      "        print('total starting nodes: ' + str(len(H.nodes())))\n",
      "        print('total starting edges: ' + str(len(H.edges())))\n",
      "        \n",
      "        print('edges to remove: ' + str(len([ (i[:2]) for i in H.edges(data=True) if i[2][threshold_property] < threshold ])))\n",
      "    \n",
      "    H.remove_edges_from([ (i[:2]) for i in H.edges(data=True) if i[2][threshold_property] < threshold ])\n",
      "    H.remove_nodes_from([ k for k,v in H.degree().items() if v ==0 ])\n",
      "    \n",
      "    if debug:\n",
      "        # print out some debugging info\n",
      "        print('total nodes after thresholding: ' + str(len(H.nodes())))\n",
      "        print('total nodes after thresholding with 0 degree: ' + str(len([ k for k,v in H.degree().items() if v ==0 ])))\n",
      "        print('total edges after thresholding: ' + str(len(H.edges())))\n",
      "        \n",
      "        print('Nodes:')\n",
      "        print(H.nodes(data=True))\n",
      "        print('Edges:')\n",
      "        print(H.edges(data=True))\n",
      "    \n",
      "    # if graph is small enough\n",
      "    # parameter threshold: minimum edge weight for plotting (assumed to be in edge property called 'weight') \n",
      "    if len(H.nodes()) < 2000:\n",
      "    \n",
      "        # get parameters for plotting\n",
      "        cols = list(i['col'] for i in H.node.values())\n",
      "        size = list(i['size'] for i in H.node.values())\n",
      "        labels = {i['_id']:i['label'] for i in H.node.values()}\n",
      "        width = list(i[2][threshold_property] for i in H.edges(data=True))\n",
      "        \n",
      "        # scale width for plotting\n",
      "        width = [ (i*scale)/np.amax(width) for i in width ]\n",
      "        \n",
      "        nx.draw_networkx(H,\n",
      "                pos=nx.spring_layout(H, weight='weight', scale=10.0, iterations=50), # Fruchterman-Reingold force-directed\n",
      "                node_color=cols, node_size=size, width=width,\n",
      "                # only plot nodes present in edgelist\n",
      "                # nodelist=list(set( flatten([ (i[:2]) for i in G.edges(data=True) if i[2]['weight'] >= threshold ]) )),\n",
      "                # only plot edges with weight of at least threshold\n",
      "                # edgelist=[ (i[:2]) for i in G.edges(data=True) if i[2]['weight'] >= threshold ],\n",
      "                with_labels=False, alpha=0.5, labels=labels\n",
      "                )\n",
      "        \n",
      "    else:\n",
      "        print('Graph too large to print it at ' + threshold_property + ' > ' + threshold + ' : consider downsampling/subsetting/derivations')"
     ],
     "language": "python",
     "metadata": {},
     "outputs": [],
     "prompt_number": 40
    },
    {
     "cell_type": "code",
     "collapsed": false,
     "input": [
      "generic_graph_plot(G)"
     ],
     "language": "python",
     "metadata": {},
     "outputs": [
      {
       "output_type": "stream",
       "stream": "stdout",
       "text": [
        "Graph too large to print it all: consider downsampling/subsetting/derivations\n"
       ]
      }
     ],
     "prompt_number": 21
    },
    {
     "cell_type": "code",
     "collapsed": false,
     "input": [
      "# common neighbours function for cocitation\n",
      "def common_neighbours(graph, n1, n2):\n",
      "    ### calculate the common neighbours for nodes <n1> and <n2> in graph <graph>\n",
      "    ### return list of common neighbours, or empty list if none\n",
      "    \n",
      "    # NB: assumes n1 and n2 are in <graph>, DOES NOT CHECK\n",
      "    cn = set()\n",
      "    if n1!=n2: # no self loops\n",
      "        cn = set(graph.neighbors(n1)) & set(graph.neighbors(n2))\n",
      "    \n",
      "    return(list(cn))"
     ],
     "language": "python",
     "metadata": {},
     "outputs": [],
     "prompt_number": 22
    },
    {
     "cell_type": "code",
     "collapsed": false,
     "input": [
      "# common neighbours function for cocitation\n",
      "def all_neighbours(graph, nbunch):\n",
      "    ### calculate all the neighbours for nodes in <nbunch> in graph <graph>\n",
      "    ### return list of neighbours, excluding <nbunch>, or empty list if none\n",
      "    \n",
      "    # NB: assumes nbunch are in <graph>, DOES NOT CHECK\n",
      "    \n",
      "    an = list()\n",
      "    for n in nbunch:\n",
      "        an.append([ graph.neighbors(n) ])\n",
      "    an = set(flatten(an)) - set(nbunch) # remove nbunch from neighbour list\n",
      "    \n",
      "    return(list(an))"
     ],
     "language": "python",
     "metadata": {},
     "outputs": [],
     "prompt_number": 23
    },
    {
     "cell_type": "code",
     "collapsed": false,
     "input": [
      "# function for cocitation between two nodes in graph, using helper functions <all_neighbours()> and <common_neighbours()>\n",
      "def cocite(x):\n",
      "    (graph, n1, n2) = x\n",
      "    weight = len(common_neighbours(graph, n1, n2))\n",
      "    \n",
      "    if weight > 0:\n",
      "        # include jaccard as a scaled measure : http://en.wikipedia.org/wiki/Jaccard_index\n",
      "        jaccard_index = (weight / len(all_neighbours(graph, [n1, n2])))\n",
      "        jaccard_dist = 1- jaccard_index\n",
      "        \n",
      "        # return tuple for adding cocitation edge\n",
      "        return(tuple([n1, n2, {'weight' : weight, 'j_dist' : jaccard_dist, 'j_idx' : jaccard_index}]))\n",
      "    \n",
      "    else:\n",
      "        return(None)"
     ],
     "language": "python",
     "metadata": {},
     "outputs": [],
     "prompt_number": 30
    },
    {
     "cell_type": "code",
     "collapsed": false,
     "input": [
      "# cocitation wrapper function\n",
      "def cocitation(graph, nbunch=None, debug=False, matrix=False, parallel=None):\n",
      "    ### for nodes in <nbunch> in graph <graph>\n",
      "    ### calculate cocitation graph, edges weighted by number of common nodes\n",
      "    ### return new networkx graph\n",
      "    \n",
      "    # parameter graph: must be a networkx graph instance\n",
      "    # parameter nbunch: must be node ids from graph <graph>\n",
      "    #                   node ids not in graph <graph>, then they will be ignored\n",
      "    #                   default = None (calculate for all nodes in graph)\n",
      "    # parameter debug: default false, print debugging info?\n",
      "    # parameter matrix: return an adjacency matrix? if false (default), returns networkx.Graph object\n",
      "    \n",
      "    # TODO: param checking and error checking\n",
      "    \n",
      "    import networkx as nx\n",
      "    import numpy as np\n",
      "    \n",
      "    if debug:\n",
      "        print('Checking input nbunch list')\n",
      "    # if no nbunch supplied, do for all nodes\n",
      "    if nbunch is None:\n",
      "        print('Calculating cocitation for all nodes')\n",
      "        nbunch = [k for k in graph.node.keys()]\n",
      "    \n",
      "    # drop any nodes not in graph\n",
      "    nbunch = list(set(nbunch) & set(graph.node.keys())) # set intersection\n",
      "    \n",
      "    if debug:\n",
      "        # check input list\n",
      "        print('nbunch type: ' + str(type(nbunch)))\n",
      "        print('nbunch length: ' + str(len(nbunch)))\n",
      "        print(nbunch[:5])\n",
      "        if len(set(nbunch)) != len(nbunch):\n",
      "            print('nbunch is not unique!')\n",
      "    \n",
      "    # new graph object to be returned, copying over node attributes from old graph\n",
      "    if debug:\n",
      "        print('Creating cocitation graph')\n",
      "    H = nx.Graph()\n",
      "    H.add_nodes_from([n for n in graph.nodes(data=True) if n[0] in nbunch])\n",
      "    \n",
      "    if debug:\n",
      "        # check graph\n",
      "        print('number of nodes in input graph: ' + str(len(graph.nodes())))\n",
      "        print('number of nodes in input nbunch: ' + str(len(nbunch)))\n",
      "        print('number of nodes in output cocitation graph: ' + str(len(H.nodes())))\n",
      "    \n",
      "    if debug:\n",
      "        print('Adding cocitation edges to graph')\n",
      "    if not parallel:\n",
      "        # iterate through all nodes in nbunch\n",
      "        # adding an edge if they are cocited, with edge weight as a 'weight' attribute\n",
      "        # do cocitation\n",
      "        e = map(cocite, \n",
      "                # only cover 'lower half' of adjacency matrix\n",
      "                [(graph, nbunch[i], nbunch[j]) for i in range(len(nbunch)) for j in range(len(nbunch)) if i < j ]\n",
      "                )\n",
      "        H.add_edges_from([i for i in e if i]) # if no cocitation, cocite() return None\n",
      "                \n",
      "    else:\n",
      "        # iterate through node pairs as above, but in parallel\n",
      "        from multiprocessing import Pool\n",
      "        \n",
      "        # init processes\n",
      "        p = Pool(8)\n",
      "        \n",
      "        e = p.map(cocite, [(graph, nbunch[i], nbunch[j]) for i in range(len(nbunch)) for j in range(len(nbunch)) if i < j ])\n",
      "        \n",
      "        H.add_edges_from([i for i in e if i]) # if no cocitation, cocite() return None\n",
      "    \n",
      "    if matrix:\n",
      "        return(to_numpy_matrix(H, nodelist=nbunch, dtype=int, weight='weight', nonedge=0))\n",
      "    else:\n",
      "        return(H)\n"
     ],
     "language": "python",
     "metadata": {},
     "outputs": [],
     "prompt_number": 25
    },
    {
     "cell_type": "code",
     "collapsed": false,
     "input": [
      "# test\n",
      "generic_graph_plot(\n",
      "                   cocitation(G, nbunch=['ENST00000225504', 'ENST00000220509', 'ENST00000238508', 'ENST00000296849', 'ENST00000296847'], \n",
      "                              debug=True)\n",
      "                   )"
     ],
     "language": "python",
     "metadata": {},
     "outputs": [
      {
       "output_type": "stream",
       "stream": "stdout",
       "text": [
        "Checking input nbunch list\n",
        "nbunch type: <class 'list'>\n",
        "nbunch length: 3\n",
        "['ENST00000225504', 'ENST00000220509', 'ENST00000238508']\n",
        "Creating cocitation graph\n",
        "number of nodes in input graph: 74800"
       ]
      },
      {
       "output_type": "stream",
       "stream": "stdout",
       "text": [
        "\n",
        "number of nodes in input nbunch: 3\n",
        "number of nodes in output cocitation graph: 3\n",
        "Adding cocitation edges to graph\n"
       ]
      },
      {
       "metadata": {},
       "output_type": "display_data",
       "png": "[encoded data removed]",
       "text": [
        "<matplotlib.figure.Figure at 0xb83854a8>"
       ]
      }
     ],
     "prompt_number": 31
    },
    {
     "cell_type": "code",
     "collapsed": false,
     "input": [
      "# try it out\n",
      "cocit = cocitation(G, nbunch=[k for k,v in G.node.items() if v['type'] == 'transcript'], debug=True) # very slow & wasteful\n",
      "# cocit = cocitation(G, nbunch=[k for k,v in G.node.items() if v['type'] == 'transcript'], debug=True, parallel=True)"
     ],
     "language": "python",
     "metadata": {},
     "outputs": [
      {
       "output_type": "stream",
       "stream": "stdout",
       "text": [
        "Checking input nbunch list\n",
        "nbunch type: <class 'list'>\n",
        "nbunch length: 4747\n",
        "['ENST00000286301', 'ENST00000175091', 'ENST00000258106', 'ENST00000258449', 'ENST00000275036']\n",
        "Creating cocitation graph\n",
        "number of nodes in input graph: 74800"
       ]
      },
      {
       "output_type": "stream",
       "stream": "stdout",
       "text": [
        "\n",
        "number of nodes in input nbunch: 4747\n",
        "number of nodes in output cocitation graph: 4747\n",
        "Adding cocitation edges to graph\n"
       ]
      }
     ],
     "prompt_number": 32
    },
    {
     "cell_type": "code",
     "collapsed": false,
     "input": [
      "# save cocitation for later use\n",
      "nx.write_gml(cocit, OUTPUT_DIR + 'hsap.3utr.cocit.gml.gz')\n",
      "# cocit = nx.read_gml(OUTPUT_DIR + 'hsap.3utr.cocit.gml', relabel=True)"
     ],
     "language": "python",
     "metadata": {},
     "outputs": [],
     "prompt_number": 43
    },
    {
     "cell_type": "code",
     "collapsed": false,
     "input": [
      "## plot as scatter: jaccard vs weight\n",
      "# initialise plot & axes\n",
      "fig, ax = plt.subplots(1, 1, figsize=(8,8))\n",
      "# create plot\n",
      "ax.scatter([i[2]['j_dist'] for i in cocit.edges(data=True)], [i[2]['weight'] for i in cocit.edges(data=True)],\n",
      "           alpha=.5)\n",
      "ax.set_ylabel('edge weight')\n",
      "ax.set_xlabel('Jaccard distance')\n",
      "plt.show()"
     ],
     "language": "python",
     "metadata": {},
     "outputs": [
      {
       "metadata": {},
       "output_type": "display_data",
       "png": "[encoded data removed]",
       "text": [
        "<matplotlib.figure.Figure at 0xb8376be0>"
       ]
      }
     ],
     "prompt_number": 37
    },
    {
     "cell_type": "code",
     "collapsed": false,
     "input": [
      "# plot as graph, varying weight threshold\n",
      "weighted_graph_plot(cocit, threshold=0)\n",
      "weighted_graph_plot(cocit, threshold=10)\n",
      "weighted_graph_plot(cocit, threshold=100, debug=True)"
     ],
     "language": "python",
     "metadata": {},
     "outputs": [
      {
       "output_type": "stream",
       "stream": "stderr",
       "text": [
        "\n",
        "KeyboardInterrupt\n"
       ]
      },
      {
       "metadata": {},
       "output_type": "display_data",
       "text": [
        "<matplotlib.figure.Figure at 0xb8420f28>"
       ]
      }
     ],
     "prompt_number": 41
    }
   ],
   "metadata": {}
  }
 ]
}